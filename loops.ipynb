{
 "cells": [
  {
   "cell_type": "markdown",
   "id": "25182d5e",
   "metadata": {},
   "source": [
    "# Loops lab\n",
    "Welcome to the loops lab! This lab will introduce you to loops in Python as\n",
    "you explore repitition in art and nature.\n",
    "\n",
    "In the last lab, you may have run into a situation where you found yourself writing\n",
    "the same set of turtle commands over and over again. This can be quite frustrating\n",
    "and inefficient. When programming, one of our goals is to make our code as efficient\n",
    "as possible. \n",
    "\n",
    "In Python, *loops* can help us run the same code multiple times in a more efficient\n",
    "and abstract way."
   ]
  },
  {
   "cell_type": "markdown",
   "id": "dec47d5d",
   "metadata": {},
   "source": [
    "## Calculations\n",
    "One application of loops is performing repetitive calculations.\n",
    "\n",
    "💻 To start, run the code cell below. Can you figure out what it's doing?"
   ]
  },
  {
   "cell_type": "code",
   "execution_count": null,
   "id": "4200c705",
   "metadata": {},
   "outputs": [],
   "source": [
    "for i in range(10):\n",
    "    print(i)"
   ]
  },
  {
   "cell_type": "markdown",
   "id": "510e8d45",
   "metadata": {},
   "source": [
    "This loop runs 10 times, repeating everything indented to the right of \n",
    "the `for i in range(10):` line. `i` is a variable that gets incremented\n",
    "by one every time the loop runs.\n",
    "\n",
    "💻 Re-write the code above to make the loop run a different number of times,\n",
    "maybe 5 or 14. Can you figure out how to do it?"
   ]
  },
  {
   "cell_type": "markdown",
   "id": "26e769a4",
   "metadata": {},
   "source": [
    "> **👾 💬 FYI**\n",
    ">\n",
    "> Notice that the count inside `i` starts at 0 and goes up to the number inside\n",
    "> `range()` but doesn’t include that number."
   ]
  },
  {
   "cell_type": "code",
   "execution_count": null,
   "id": "d34901e4",
   "metadata": {},
   "outputs": [],
   "source": [
    "# Your code here\n"
   ]
  },
  {
   "cell_type": "markdown",
   "id": "fef12c28",
   "metadata": {},
   "source": [
    "Now, let add some mathematical operators to our code so that we're actually\n",
    "calculating something. In Python, you can use mathmatical operators to perform\n",
    "operations:"
   ]
  },
  {
   "cell_type": "code",
   "execution_count": null,
   "id": "1e210506",
   "metadata": {},
   "outputs": [],
   "source": [
    "# addition\n",
    "print(4+3)"
   ]
  },
  {
   "cell_type": "code",
   "execution_count": null,
   "id": "6b4a596b",
   "metadata": {},
   "outputs": [],
   "source": [
    "# subtraction\n",
    "print(3-6)"
   ]
  },
  {
   "cell_type": "code",
   "execution_count": null,
   "id": "7adb2d70",
   "metadata": {},
   "outputs": [],
   "source": [
    "# multiplication\n",
    "print(5*3)"
   ]
  },
  {
   "cell_type": "code",
   "execution_count": null,
   "id": "8ced8933",
   "metadata": {},
   "outputs": [],
   "source": [
    "# division\n",
    "print(4/2)"
   ]
  },
  {
   "cell_type": "markdown",
   "id": "7c00d6b6",
   "metadata": {},
   "source": [
    "💻 Write code to make a loop print out the square of every number \n",
    "from 0 to 12. When you run your program, the output should look like this:\n",
    "\n",
    "```\n",
    "0\n",
    "1\n",
    "4\n",
    "9\n",
    "16\n",
    "25\n",
    "36\n",
    "49\n",
    "64\n",
    "81\n",
    "100\n",
    "121\n",
    "```"
   ]
  },
  {
   "cell_type": "code",
   "execution_count": null,
   "id": "bb9ae203",
   "metadata": {},
   "outputs": [],
   "source": [
    "# Your code here\n"
   ]
  },
  {
   "cell_type": "markdown",
   "id": "44c8c7d1",
   "metadata": {},
   "source": [
    "## Geometric sequences\n",
    "Loops are particularly useful when we need to do things over time.\n",
    "\n",
    "💻 To see this, let’s **use a loop to list out the first 10 terms in a\n",
    "geometric sequence.**\n",
    "\n",
    "> **👾 💬 FYI**\n",
    ">\n",
    "> Sequences are ordered collections of numbers that have a pattern to determine\n",
    "> which numbers appear in the sequence. For example, `2, 4, 6, 8, 10, ...` is a\n",
    "> sequence where each number 2 more than the previous number.\n",
    ">\n",
    "> Geometric sequences are sequences where there is a common ratio between each\n",
    "> number in the sequence. For example, `3, 9, 27, 81, ...` is a geometric sequence\n",
    "> where each number is 3 times the number before it (making the common ratio 3)."
   ]
  },
  {
   "cell_type": "markdown",
   "id": "195f61f3",
   "metadata": {},
   "source": [
    "### Pseudo-code\n",
    "This is a slightly more complicated computational problem than the ones you seen\n",
    "so far. To get started on it, think through the *pseudo-code* of what we want this\n",
    "program to do. *Pseudo-code* is an outline of the program we’ll ultimately write where\n",
    "we don’t worry about using Python syntax.\n",
    "\n",
    "Here are some things to consider:\n",
    "- You will use a loop to calculate each term in the sequence. What is the formula\n",
    "you will use at each step in the loop to calculate the term?\n",
    "- You will need to know the previous term to calculate the current term. How will\n",
    "you keep track of this?\n",
    "\n",
    "If you're not sure where to start, try solving the problem as a human and write down\n",
    "each step you take to accomplish the goal. That's your initial pseudo-code!\n",
    "\n",
    "✏️ You can use the cell below to write your pseudo-code:\n"
   ]
  },
  {
   "cell_type": "markdown",
   "id": "2a6f6bb9",
   "metadata": {},
   "source": [
    "**Pseudo-code:**\n",
    "\n",
    "*Double click on this cell to edit it.*"
   ]
  },
  {
   "cell_type": "markdown",
   "id": "dd1468ec",
   "metadata": {},
   "source": [
    "### Code\n",
    "After you are confident your pseduocode has the correct logic, translate it into\n",
    "Python code.\n",
    "\n",
    "💻 We've got you started below:"
   ]
  },
  {
   "cell_type": "code",
   "execution_count": null,
   "id": "a3a2f8a9",
   "metadata": {},
   "outputs": [],
   "source": [
    "ratio = float(input(\"What should the ratio of the sequence be? \"))\n",
    "start = 1\n",
    "print(start)\n"
   ]
  },
  {
   "cell_type": "markdown",
   "id": "0697cb86",
   "metadata": {},
   "source": [
    "## Fibonacci Sequence\n",
    "Let’s explore another sequence, the Fibonacci sequence.\n",
    "\n",
    "This sequence occurs when you begin with the terms 0 and 1 and derive each subsequent\n",
    "term by adding the previous two terms together. Here are the first 8 terms:\n",
    "\n",
    "```\n",
    "      0  (by definition)\n",
    "      1  (by definition)\n",
    "0+1 = 1\n",
    "1+1 = 2\n",
    "1+2 = 3\n",
    "2+3 = 5\n",
    "3+5 = 8\n",
    "5+8 = 13\n",
    ".\n",
    ".\n",
    ".\n",
    "```\n",
    "\n",
    "This sequence has all kinds of interesting properties. Check out the video below\n",
    "to see how numbers from the Fibonacci sequence pop up everywhere:"
   ]
  },
  {
   "cell_type": "code",
   "execution_count": null,
   "id": "9b0baf86",
   "metadata": {},
   "outputs": [],
   "source": [
    "from IPython.display import HTML\n",
    "HTML('<iframe width=\"560\" height=\"315\" src=\"https://www.youtube.com/embed/ahXIMUkSXX0\" frameborder=\"0\" allowfullscreen></iframe>')"
   ]
  },
  {
   "cell_type": "markdown",
   "id": "4223b40b",
   "metadata": {},
   "source": [
    "We’re going to write an algorithm to print out numbers in the Fibonnaci sequence."
   ]
  },
  {
   "cell_type": "markdown",
   "id": "08aac563",
   "metadata": {},
   "source": [
    "### Pseudo-code\n",
    "✏️ Just like you did with the geometric series algorithm, think through the\n",
    "pseudo-code of what we want the Fibonacci sequence algorithm to do.\n",
    "\n",
    "Here are some things to consider:\n",
    "- Your algorithm should print out the number of terms as determined by user input. *Make sure you count all of the terms against the \n",
    "user-requested number of terms, including the terms given by the \n",
    "definition of the sequence.*\n",
    "- Just like before, you will need a way to track the previous terms of the\n",
    "sequence, but this time you need two past terms instead of just one.\n",
    "\n",
    "✏️ You can use the cell below to write your pseudo-code:"
   ]
  },
  {
   "cell_type": "markdown",
   "id": "f87d838f",
   "metadata": {},
   "source": [
    "**Pseudo-code:**\n",
    "\n",
    "*Double click on this cell to edit it.*"
   ]
  },
  {
   "cell_type": "markdown",
   "id": "6146a0e0",
   "metadata": {},
   "source": [
    "### Code\n",
    "After you are confident your pseduocode has the correct logic, translate it into\n",
    "Python code.\n",
    "\n",
    "💻 Again, we've got you started below:"
   ]
  },
  {
   "cell_type": "code",
   "execution_count": null,
   "id": "025ed5e0",
   "metadata": {},
   "outputs": [],
   "source": [
    "num_terms = int(input(\"How many terms of the fibonacci sequence should I display? \"))\n"
   ]
  },
  {
   "cell_type": "markdown",
   "id": "8b3a76cf",
   "metadata": {},
   "source": [
    "## Loopy drawings"
   ]
  },
  {
   "cell_type": "code",
   "execution_count": null,
   "id": "18eebd9d",
   "metadata": {},
   "outputs": [],
   "source": [
    "from turtle import *"
   ]
  },
  {
   "cell_type": "markdown",
   "id": "46e2d8ca",
   "metadata": {},
   "source": [
    "Loops are not just useful for numbers and sequences, they can also be helpful in making drawings. Any time your code does the same thing multiple times, you can use a loop to make it simplier and more powerful.\n",
    "\n",
    "Take a look at the code we’ve been using to draw a square:"
   ]
  },
  {
   "cell_type": "code",
   "execution_count": null,
   "id": "da95f9cc",
   "metadata": {},
   "outputs": [],
   "source": [
    "forward(100)\n",
    "right(90)\n",
    "forward(100)\n",
    "right(90)\n",
    "forward(100)\n",
    "right(90)\n",
    "forward(100)\n",
    "right(90)"
   ]
  },
  {
   "cell_type": "markdown",
   "id": "46c36162",
   "metadata": {},
   "source": [
    "Pretty repetitive, right?\n",
    "\n",
    "💻 Edit this code to use a loop to avoid repeating the same code over and over again.\n",
    "\n",
    "> **👾 💬 FYI**\n",
    ">\n",
    "> Remeber to use the `reset()` function to reset the turtle canvas between drawings.\n",
    "> If you like, you can add a new cell for the `reset()` function using the plus\n",
    "> button on the tool bar."
   ]
  },
  {
   "cell_type": "code",
   "execution_count": null,
   "id": "412f70c2",
   "metadata": {},
   "outputs": [],
   "source": [
    "# Your code here\n"
   ]
  },
  {
   "cell_type": "markdown",
   "id": "885be67c",
   "metadata": {},
   "source": [
    "### Drawing Fibonacci\n",
    "Finally, let’s use the code you wrote to calculate Fibonacci sequences to make \n",
    "pattern drawings inspired by flowers and pinecones.\n",
    "\n",
    "![Fibonacci drawing](images/fib_final.png)"
   ]
  },
  {
   "cell_type": "markdown",
   "id": "f4e71454",
   "metadata": {},
   "source": [
    "### One Spiral\n",
    "\n",
    "First, use your Fibonacci code to draw a single spiral. You can do \n",
    "this by drawing a line for each number in the Fibonacci sequence \n",
    "and connecting the lines at a standard angle. Instead of printing \n",
    "each term, use it to tell the turtle how far to move.\n",
    "\n",
    "The Turtle should draw something like this:\n",
    "![Single Fibonacci Spiral](images/fib_single_spiral.png)"
   ]
  },
  {
   "cell_type": "code",
   "execution_count": null,
   "id": "d656f3cb",
   "metadata": {},
   "outputs": [],
   "source": [
    "# Your code here\n"
   ]
  },
  {
   "cell_type": "markdown",
   "id": "e372fb8b",
   "metadata": {},
   "source": [
    "### Multiple spirals\n",
    "💻 Now, loop your code to draw multiple spirals originating from the center. To achieve the pinecone style from the video, make\n",
    "sure to use a Fibonacci number for the number of spirals you draw.\n",
    "\n",
    "> 👾 💬 FYI\n",
    ">\n",
    "> You can return your turtle to the center of the window using\n",
    "> `goto(0, 0)`.\n",
    ">\n",
    "> If you want, you can use `penup()` and `pendown()`\n",
    "> to keep the turtle from drawing as it returns to the center. \n",
    "> \n",
    "> Additionally, you can use `setheading(ANGLE)` to tell the turtle\n",
    "> which direction to face where `ANGLE` is a number between 0 and\n",
    "> 360.\n",
    "\n",
    "Now, the Turtle should draw something like this:\n",
    "![Multiple Fibonacci Spirals](images/fib_multiple_spirals.png)"
   ]
  },
  {
   "cell_type": "code",
   "execution_count": null,
   "id": "be90ce39",
   "metadata": {},
   "outputs": [],
   "source": [
    "# Your code here\n"
   ]
  },
  {
   "cell_type": "markdown",
   "id": "9532bb44",
   "metadata": {},
   "source": [
    "### Clockwise and counterclockwise\n",
    "To get a pinecone or flower effect like the video above described,\n",
    "you’ll need to spiral clockwise and countercloackwise.\n",
    "\n",
    "💻 Repeat your spiral code, changing it to make your spirals turn \n",
    "in the other direction. Again, use a Fibonacci number for the\n",
    "number of spirals."
   ]
  },
  {
   "cell_type": "code",
   "execution_count": null,
   "id": "ec5935fa",
   "metadata": {},
   "outputs": [],
   "source": [
    "# Your code here\n"
   ]
  },
  {
   "cell_type": "code",
   "execution_count": null,
   "id": "9e4c74dc",
   "metadata": {},
   "outputs": [],
   "source": []
  }
 ],
 "metadata": {
  "kernelspec": {
   "display_name": "Python 3 (ipykernel)",
   "language": "python",
   "name": "python3"
  },
  "language_info": {
   "codemirror_mode": {
    "name": "ipython",
    "version": 3
   },
   "file_extension": ".py",
   "mimetype": "text/x-python",
   "name": "python",
   "nbconvert_exporter": "python",
   "pygments_lexer": "ipython3",
   "version": "3.9.1"
  },
  "toc": {
   "base_numbering": 1,
   "nav_menu": {},
   "number_sections": true,
   "sideBar": true,
   "skip_h1_title": false,
   "title_cell": "Table of Contents",
   "title_sidebar": "Contents",
   "toc_cell": false,
   "toc_position": {},
   "toc_section_display": true,
   "toc_window_display": false
  },
  "varInspector": {
   "cols": {
    "lenName": 16,
    "lenType": 16,
    "lenVar": 40
   },
   "kernels_config": {
    "python": {
     "delete_cmd_postfix": "",
     "delete_cmd_prefix": "del ",
     "library": "var_list.py",
     "varRefreshCmd": "print(var_dic_list())"
    },
    "r": {
     "delete_cmd_postfix": ") ",
     "delete_cmd_prefix": "rm(",
     "library": "var_list.r",
     "varRefreshCmd": "cat(var_dic_list()) "
    }
   },
   "types_to_exclude": [
    "module",
    "function",
    "builtin_function_or_method",
    "instance",
    "_Feature"
   ],
   "window_display": false
  }
 },
 "nbformat": 4,
 "nbformat_minor": 5
}
