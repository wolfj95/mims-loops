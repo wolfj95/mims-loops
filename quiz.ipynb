{
 "cells": [
  {
   "cell_type": "markdown",
   "id": "ece538b2",
   "metadata": {},
   "source": [
    "# Check-in Quiz\n",
    "This notebook holds code used in the check-in quiz for this lab."
   ]
  },
  {
   "cell_type": "markdown",
   "id": "6e74c294",
   "metadata": {},
   "source": [
    "## Code trace\n",
    "Read through the following code and guess what the turtle drawing\n",
    "it produces will look like. \n",
    "\n",
    "You can check your answer by running the code in Jupyter later,\n",
    "but make a guess without running the code first."
   ]
  },
  {
   "cell_type": "code",
   "execution_count": 7,
   "id": "53238127",
   "metadata": {},
   "outputs": [],
   "source": [
    "from turtle import *\n",
    "reset()"
   ]
  },
  {
   "cell_type": "code",
   "execution_count": 29,
   "id": "aad49fb9",
   "metadata": {},
   "outputs": [
    {
     "name": "stdout",
     "output_type": "stream",
     "text": [
      "How many points? 60\n"
     ]
    }
   ],
   "source": [
    "reset()\n",
    "speed(10)\n",
    "\n",
    "points = int(input(\"How many points? \"))\n",
    "\n",
    "for i in range(points):\n",
    "    forward(i*2)\n",
    "    right(360/points)\n",
    "    backward(i*2)\n",
    "    "
   ]
  },
  {
   "cell_type": "markdown",
   "id": "c8d699ca",
   "metadata": {},
   "source": [
    "## Error reading\n",
    "Rational function graphing"
   ]
  },
  {
   "cell_type": "code",
   "execution_count": 24,
   "id": "708fc69c",
   "metadata": {},
   "outputs": [
    {
     "name": "stdout",
     "output_type": "stream",
     "text": [
      "What value of n should I use? 100\n"
     ]
    }
   ],
   "source": [
    "reset()\n",
    "speed(10)\n",
    "\n",
    "number = int(input(\"What value of n should I use? \"))\n",
    "\n",
    "\n",
    "for i in range(-49, 50):\n",
    "    left(90)\n",
    "    if i != 0:\n",
    "        forward(number/i)\n",
    "        backward(number/i)\n",
    "    right(90)\n",
    "    forward(2)\n",
    "    \n"
   ]
  },
  {
   "cell_type": "markdown",
   "id": "ecbc5cee",
   "metadata": {},
   "source": [
    "## Debugging\n"
   ]
  },
  {
   "cell_type": "code",
   "execution_count": 31,
   "id": "8284f773",
   "metadata": {},
   "outputs": [
    {
     "name": "stdout",
     "output_type": "stream",
     "text": [
      "How many terms of the fibonacci sequence should I display? 10\n",
      "0\n",
      "1\n",
      "1\n",
      "2\n",
      "3\n",
      "5\n",
      "8\n",
      "13\n",
      "21\n",
      "34\n"
     ]
    }
   ],
   "source": [
    "num_terms = int(input(\"How many terms of the fibonacci sequence should I display? \"))\n",
    "prev = 0\n",
    "print(prev)\n",
    "curr = 1\n",
    "print(curr)\n",
    "for i in range(num_terms-2):\n",
    "    output = curr+prev\n",
    "    print(output)\n",
    "    prev = curr\n",
    "    curr = output"
   ]
  },
  {
   "cell_type": "code",
   "execution_count": null,
   "id": "f14b6659",
   "metadata": {},
   "outputs": [],
   "source": []
  }
 ],
 "metadata": {
  "kernelspec": {
   "display_name": "Python 3 (ipykernel)",
   "language": "python",
   "name": "python3"
  },
  "language_info": {
   "codemirror_mode": {
    "name": "ipython",
    "version": 3
   },
   "file_extension": ".py",
   "mimetype": "text/x-python",
   "name": "python",
   "nbconvert_exporter": "python",
   "pygments_lexer": "ipython3",
   "version": "3.9.1"
  },
  "toc": {
   "base_numbering": 1,
   "nav_menu": {},
   "number_sections": true,
   "sideBar": true,
   "skip_h1_title": false,
   "title_cell": "Table of Contents",
   "title_sidebar": "Contents",
   "toc_cell": false,
   "toc_position": {},
   "toc_section_display": true,
   "toc_window_display": false
  },
  "varInspector": {
   "cols": {
    "lenName": 16,
    "lenType": 16,
    "lenVar": 40
   },
   "kernels_config": {
    "python": {
     "delete_cmd_postfix": "",
     "delete_cmd_prefix": "del ",
     "library": "var_list.py",
     "varRefreshCmd": "print(var_dic_list())"
    },
    "r": {
     "delete_cmd_postfix": ") ",
     "delete_cmd_prefix": "rm(",
     "library": "var_list.r",
     "varRefreshCmd": "cat(var_dic_list()) "
    }
   },
   "types_to_exclude": [
    "module",
    "function",
    "builtin_function_or_method",
    "instance",
    "_Feature"
   ],
   "window_display": false
  }
 },
 "nbformat": 4,
 "nbformat_minor": 5
}
